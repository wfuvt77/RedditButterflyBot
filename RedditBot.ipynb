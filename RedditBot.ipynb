{
 "cells": [
  {
   "cell_type": "code",
   "execution_count": null,
   "metadata": {},
   "outputs": [],
   "source": [
    "import praw\n",
    "\n",
    "#set up oauth stuff\n",
    "reddit = praw.Reddit(client_id = 'MgtWJi4Nsp0G_Q', client_secret = '7h8RcelujZvzoUQzlrhGAV9Y81M',\n",
    "           password = 'd4!!b*77', user_agent = 'Butterfly bot', username = 'b0tterfly')\n",
    "\n",
    "\n",
    "#get the subreddit\n",
    "subreddit = reddit.subreddit('butterflybottest')\n",
    "\n",
    "#get all the comments\n",
    "comments = subreddit.stream.comments()\n",
    "\n",
    "#for all the coments\n",
    "for comment in comments:\n",
    "\n",
    "    #get the text and make it lowercase\n",
    "    text = (comment.body).lower()\n",
    "    \n",
    "    #if butterflies\n",
    "    if 'butterfly' || 'butterflies' in text:\n",
    "        \n",
    "        message = \"soon a butterfly character will go here\"\n",
    "        \n",
    "        #reply\n",
    "        comment.reply(message)\n",
    "    \n",
    "    \n",
    "    \n"
   ]
  },
  {
   "cell_type": "code",
   "execution_count": null,
   "metadata": {},
   "outputs": [],
   "source": []
  }
 ],
 "metadata": {
  "kernelspec": {
   "display_name": "Python 2",
   "language": "python",
   "name": "python2"
  },
  "language_info": {
   "codemirror_mode": {
    "name": "ipython",
    "version": 2
   },
   "file_extension": ".py",
   "mimetype": "text/x-python",
   "name": "python",
   "nbconvert_exporter": "python",
   "pygments_lexer": "ipython2",
   "version": "2.7.12"
  }
 },
 "nbformat": 4,
 "nbformat_minor": 2
}
